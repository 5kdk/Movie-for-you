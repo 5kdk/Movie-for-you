{
 "cells": [
  {
   "cell_type": "code",
   "execution_count": 1,
   "metadata": {},
   "outputs": [],
   "source": [
    "import pandas as pd\r\n",
    "from konlpy.tag import Okt\r\n",
    "import re\r\n",
    "from multiprocessing import Pool\r\n",
    "from tqdm import tqdm\r\n",
    "tqdm.pandas()"
   ]
  },
  {
   "cell_type": "code",
   "execution_count": 2,
   "metadata": {},
   "outputs": [
    {
     "data": {
      "text/html": [
       "<div>\n",
       "<style scoped>\n",
       "    .dataframe tbody tr th:only-of-type {\n",
       "        vertical-align: middle;\n",
       "    }\n",
       "\n",
       "    .dataframe tbody tr th {\n",
       "        vertical-align: top;\n",
       "    }\n",
       "\n",
       "    .dataframe thead th {\n",
       "        text-align: right;\n",
       "    }\n",
       "</style>\n",
       "<table border=\"1\" class=\"dataframe\">\n",
       "  <thead>\n",
       "    <tr style=\"text-align: right;\">\n",
       "      <th></th>\n",
       "      <th>reviews</th>\n",
       "      <th>titles</th>\n",
       "      <th>years</th>\n",
       "    </tr>\n",
       "  </thead>\n",
       "  <tbody>\n",
       "    <tr>\n",
       "      <th>0</th>\n",
       "      <td>작년 2017년에 포켓몬스터 극장판 \\n너로 정했다!영화를 보게 되었는데, 피카츄가...</td>\n",
       "      <td>극장판 포켓몬스터 모두의 이야기 (Pokemon the Movie: The Powe...</td>\n",
       "      <td>2018</td>\n",
       "    </tr>\n",
       "    <tr>\n",
       "      <th>1</th>\n",
       "      <td>이번 극장판도 엄청났습니다!\\n\\n보는내내 재미있었는데 직접 영화관에 가시는분들을위...</td>\n",
       "      <td>극장판 포켓몬스터 모두의 이야기 (Pokemon the Movie: The Powe...</td>\n",
       "      <td>2018</td>\n",
       "    </tr>\n",
       "    <tr>\n",
       "      <th>2</th>\n",
       "      <td>티저가 공개되고나서부터 기다렸는데 드디어 개봉 했습니다\\n\\n바람 축제가 열리는 후...</td>\n",
       "      <td>극장판 포켓몬스터 모두의 이야기 (Pokemon the Movie: The Powe...</td>\n",
       "      <td>2018</td>\n",
       "    </tr>\n",
       "    <tr>\n",
       "      <th>3</th>\n",
       "      <td>극장판 포켓몬스터 모두의 이야기\\n감독\\n야지마 테츠오\\n출연\\n마츠모토 리카, 오...</td>\n",
       "      <td>극장판 포켓몬스터 모두의 이야기 (Pokemon the Movie: The Powe...</td>\n",
       "      <td>2018</td>\n",
       "    </tr>\n",
       "    <tr>\n",
       "      <th>4</th>\n",
       "      <td>극장판 포켓몬스터 모두의 이야기\\n감독\\n야지마 테츠오\\n출연\\n마츠모토 리카, 오...</td>\n",
       "      <td>극장판 포켓몬스터 모두의 이야기 (Pokemon the Movie: The Powe...</td>\n",
       "      <td>2018</td>\n",
       "    </tr>\n",
       "    <tr>\n",
       "      <th>5</th>\n",
       "      <td>극장판 포켓몬스터 모두의 이야기\\n감독\\n야지마 테츠오\\n출연\\n마츠모토 리카, 오...</td>\n",
       "      <td>극장판 포켓몬스터 모두의 이야기 (Pokemon the Movie: The Powe...</td>\n",
       "      <td>2018</td>\n",
       "    </tr>\n",
       "    <tr>\n",
       "      <th>6</th>\n",
       "      <td>영화 추천 애니메이션\\n\\n\\n#포켓몬스터 극장판 모두의 이야기 줄거리 스포x\\n ...</td>\n",
       "      <td>극장판 포켓몬스터 모두의 이야기 (Pokemon the Movie: The Powe...</td>\n",
       "      <td>2018</td>\n",
       "    </tr>\n",
       "    <tr>\n",
       "      <th>7</th>\n",
       "      <td>극장판 포켓몬스터 모두의 이야기\\n감독\\n야지마 테츠오\\n출연\\n마츠모토 리카, 오...</td>\n",
       "      <td>극장판 포켓몬스터 모두의 이야기 (Pokemon the Movie: The Powe...</td>\n",
       "      <td>2018</td>\n",
       "    </tr>\n",
       "    <tr>\n",
       "      <th>8</th>\n",
       "      <td>큰 기대를 하진 않았지만 그래도 영화관에서 두 차례나 봤던 너로 정했다의 후속작이었...</td>\n",
       "      <td>극장판 포켓몬스터 모두의 이야기 (Pokemon the Movie: The Powe...</td>\n",
       "      <td>2018</td>\n",
       "    </tr>\n",
       "    <tr>\n",
       "      <th>9</th>\n",
       "      <td>함께라면 무엇이든 할 수 있어! 제라오라 시리얼코드받으러 극장판 포켓몬스터 모두의...</td>\n",
       "      <td>극장판 포켓몬스터 모두의 이야기 (Pokemon the Movie: The Powe...</td>\n",
       "      <td>2018</td>\n",
       "    </tr>\n",
       "    <tr>\n",
       "      <th>10</th>\n",
       "      <td>안녕하세요 어둠속한나비입니다 이번에 개봉일이 얼마 남지 않은 포켓몬스터 극장판 모두...</td>\n",
       "      <td>극장판 포켓몬스터 모두의 이야기 (Pokemon the Movie: The Powe...</td>\n",
       "      <td>2018</td>\n",
       "    </tr>\n",
       "    <tr>\n",
       "      <th>11</th>\n",
       "      <td>오늘인 12 월 19 일이, 포켓몬스터 2018 년 극장판이자 21 번째 극장판,\\...</td>\n",
       "      <td>극장판 포켓몬스터 모두의 이야기 (Pokemon the Movie: The Powe...</td>\n",
       "      <td>2018</td>\n",
       "    </tr>\n",
       "    <tr>\n",
       "      <th>12</th>\n",
       "      <td>극장판 포켓몬스터 모두의 이야기\\n감독\\n야지마 테츠오\\n출연\\n마츠모토 리카, 오...</td>\n",
       "      <td>극장판 포켓몬스터 모두의 이야기 (Pokemon the Movie: The Powe...</td>\n",
       "      <td>2018</td>\n",
       "    </tr>\n",
       "    <tr>\n",
       "      <th>13</th>\n",
       "      <td>&lt; 2018. 12. 27 &gt; 영화_ 극장판 포켓몬스터 모두의 이야기\\n\\n\\n\\n...</td>\n",
       "      <td>극장판 포켓몬스터 모두의 이야기 (Pokemon the Movie: The Powe...</td>\n",
       "      <td>2018</td>\n",
       "    </tr>\n",
       "    <tr>\n",
       "      <th>14</th>\n",
       "      <td>모처럼 시사회에 다녀왔다. 업무상 필요한 세미나나 컨퍼런스 정보를 얻으려고 들락거리...</td>\n",
       "      <td>극장판 포켓몬스터 모두의 이야기 (Pokemon the Movie: The Powe...</td>\n",
       "      <td>2018</td>\n",
       "    </tr>\n",
       "    <tr>\n",
       "      <th>15</th>\n",
       "      <td>안녕하세요 어둠속한나비 입니다\\n\\n이번 극장판 중 저는 애니메이션 포켓몬스터 극장...</td>\n",
       "      <td>극장판 포켓몬스터 모두의 이야기 (Pokemon the Movie: The Powe...</td>\n",
       "      <td>2018</td>\n",
       "    </tr>\n",
       "    <tr>\n",
       "      <th>16</th>\n",
       "      <td>\\n재작년에 개봉한 포켓몬스터 20주년 기념 \"포켓몬스터 너로 정했다\"의 후속작으...</td>\n",
       "      <td>극장판 포켓몬스터 모두의 이야기 (Pokemon the Movie: The Powe...</td>\n",
       "      <td>2018</td>\n",
       "    </tr>\n",
       "    <tr>\n",
       "      <th>17</th>\n",
       "      <td>12월19일 개봉 극장판 포켓몬스터21기\\n 모두의이야기 시사회 관람  (용산CGV...</td>\n",
       "      <td>극장판 포켓몬스터 모두의 이야기 (Pokemon the Movie: The Powe...</td>\n",
       "      <td>2018</td>\n",
       "    </tr>\n",
       "    <tr>\n",
       "      <th>18</th>\n",
       "      <td>포켓몬 팬들은 언제나 그렇다.\\n\\n납득할 수 없는 저열한 스토리와 설정을 오로지 ...</td>\n",
       "      <td>극장판 포켓몬스터DP - 디아루가 VS 펄기아 VS 다크라이</td>\n",
       "      <td>2018</td>\n",
       "    </tr>\n",
       "    <tr>\n",
       "      <th>19</th>\n",
       "      <td>\\n설날특집으로 포캣몬스터 극장판을\\n...</td>\n",
       "      <td>극장판 포켓몬스터DP - 디아루가 VS 펄기아 VS 다크라이</td>\n",
       "      <td>2018</td>\n",
       "    </tr>\n",
       "  </tbody>\n",
       "</table>\n",
       "</div>"
      ],
      "text/plain": [
       "                                              reviews  \\\n",
       "0   작년 2017년에 포켓몬스터 극장판 \\n너로 정했다!영화를 보게 되었는데, 피카츄가...   \n",
       "1   이번 극장판도 엄청났습니다!\\n\\n보는내내 재미있었는데 직접 영화관에 가시는분들을위...   \n",
       "2   티저가 공개되고나서부터 기다렸는데 드디어 개봉 했습니다\\n\\n바람 축제가 열리는 후...   \n",
       "3   극장판 포켓몬스터 모두의 이야기\\n감독\\n야지마 테츠오\\n출연\\n마츠모토 리카, 오...   \n",
       "4   극장판 포켓몬스터 모두의 이야기\\n감독\\n야지마 테츠오\\n출연\\n마츠모토 리카, 오...   \n",
       "5   극장판 포켓몬스터 모두의 이야기\\n감독\\n야지마 테츠오\\n출연\\n마츠모토 리카, 오...   \n",
       "6   영화 추천 애니메이션\\n\\n\\n#포켓몬스터 극장판 모두의 이야기 줄거리 스포x\\n ...   \n",
       "7   극장판 포켓몬스터 모두의 이야기\\n감독\\n야지마 테츠오\\n출연\\n마츠모토 리카, 오...   \n",
       "8   큰 기대를 하진 않았지만 그래도 영화관에서 두 차례나 봤던 너로 정했다의 후속작이었...   \n",
       "9    함께라면 무엇이든 할 수 있어! 제라오라 시리얼코드받으러 극장판 포켓몬스터 모두의...   \n",
       "10  안녕하세요 어둠속한나비입니다 이번에 개봉일이 얼마 남지 않은 포켓몬스터 극장판 모두...   \n",
       "11  오늘인 12 월 19 일이, 포켓몬스터 2018 년 극장판이자 21 번째 극장판,\\...   \n",
       "12  극장판 포켓몬스터 모두의 이야기\\n감독\\n야지마 테츠오\\n출연\\n마츠모토 리카, 오...   \n",
       "13  < 2018. 12. 27 > 영화_ 극장판 포켓몬스터 모두의 이야기\\n\\n\\n\\n...   \n",
       "14  모처럼 시사회에 다녀왔다. 업무상 필요한 세미나나 컨퍼런스 정보를 얻으려고 들락거리...   \n",
       "15  안녕하세요 어둠속한나비 입니다\\n\\n이번 극장판 중 저는 애니메이션 포켓몬스터 극장...   \n",
       "16   \\n재작년에 개봉한 포켓몬스터 20주년 기념 \"포켓몬스터 너로 정했다\"의 후속작으...   \n",
       "17  12월19일 개봉 극장판 포켓몬스터21기\\n 모두의이야기 시사회 관람  (용산CGV...   \n",
       "18  포켓몬 팬들은 언제나 그렇다.\\n\\n납득할 수 없는 저열한 스토리와 설정을 오로지 ...   \n",
       "19                           \\n설날특집으로 포캣몬스터 극장판을\\n...   \n",
       "\n",
       "                                               titles  years  \n",
       "0   극장판 포켓몬스터 모두의 이야기 (Pokemon the Movie: The Powe...   2018  \n",
       "1   극장판 포켓몬스터 모두의 이야기 (Pokemon the Movie: The Powe...   2018  \n",
       "2   극장판 포켓몬스터 모두의 이야기 (Pokemon the Movie: The Powe...   2018  \n",
       "3   극장판 포켓몬스터 모두의 이야기 (Pokemon the Movie: The Powe...   2018  \n",
       "4   극장판 포켓몬스터 모두의 이야기 (Pokemon the Movie: The Powe...   2018  \n",
       "5   극장판 포켓몬스터 모두의 이야기 (Pokemon the Movie: The Powe...   2018  \n",
       "6   극장판 포켓몬스터 모두의 이야기 (Pokemon the Movie: The Powe...   2018  \n",
       "7   극장판 포켓몬스터 모두의 이야기 (Pokemon the Movie: The Powe...   2018  \n",
       "8   극장판 포켓몬스터 모두의 이야기 (Pokemon the Movie: The Powe...   2018  \n",
       "9   극장판 포켓몬스터 모두의 이야기 (Pokemon the Movie: The Powe...   2018  \n",
       "10  극장판 포켓몬스터 모두의 이야기 (Pokemon the Movie: The Powe...   2018  \n",
       "11  극장판 포켓몬스터 모두의 이야기 (Pokemon the Movie: The Powe...   2018  \n",
       "12  극장판 포켓몬스터 모두의 이야기 (Pokemon the Movie: The Powe...   2018  \n",
       "13  극장판 포켓몬스터 모두의 이야기 (Pokemon the Movie: The Powe...   2018  \n",
       "14  극장판 포켓몬스터 모두의 이야기 (Pokemon the Movie: The Powe...   2018  \n",
       "15  극장판 포켓몬스터 모두의 이야기 (Pokemon the Movie: The Powe...   2018  \n",
       "16  극장판 포켓몬스터 모두의 이야기 (Pokemon the Movie: The Powe...   2018  \n",
       "17  극장판 포켓몬스터 모두의 이야기 (Pokemon the Movie: The Powe...   2018  \n",
       "18                  극장판 포켓몬스터DP - 디아루가 VS 펄기아 VS 다크라이   2018  \n",
       "19                  극장판 포켓몬스터DP - 디아루가 VS 펄기아 VS 다크라이   2018  "
      ]
     },
     "execution_count": 2,
     "metadata": {},
     "output_type": "execute_result"
    }
   ],
   "source": [
    "df = pd.read_csv('../crawling_data/reviews_2018.csv')\r\n",
    "df.head(20)"
   ]
  },
  {
   "cell_type": "code",
   "execution_count": 3,
   "metadata": {},
   "outputs": [
    {
     "data": {
      "text/plain": [
       "(7975, 3)"
      ]
     },
     "execution_count": 3,
     "metadata": {},
     "output_type": "execute_result"
    }
   ],
   "source": [
    "df.shape"
   ]
  },
  {
   "cell_type": "code",
   "execution_count": 4,
   "metadata": {},
   "outputs": [
    {
     "name": "stdout",
     "output_type": "stream",
     "text": [
      "가나다라마\n"
     ]
    }
   ],
   "source": [
    "# 정규식 사용해보기\r\n",
    "a = '1a25ds94k|가나다라마'\r\n",
    "s = re.sub('[^가-힣 ]', '', a)\r\n",
    "print(s)"
   ]
  },
  {
   "cell_type": "code",
   "execution_count": 5,
   "metadata": {},
   "outputs": [
    {
     "name": "stdout",
     "output_type": "stream",
     "text": [
      "작년 2017년에 포켓몬스터 극장판 \n",
      "너로 정했다!영화를 보게 되었는데, 피카츄가 말한 장면에 너무 깜짝 놀라서 정말로 대단한 연기였고...., 그리고\n",
      "매우 감동했고, 그리고 잘 봤습니다.\n",
      "마침내 드디어 21주년 영화가 12월에 개봉을 하는데....\n",
      "어서 그 날이 빨리 왔으면 정말로 좋겠어요!\n",
      "과연 이 영화가 궁금하네요!!\n",
      "포켓몬스터 극장판 모두의 이야기.... 21주년이 된 이 영화에는 지우의 모습이 달라지고,\n",
      "또 로켓단도 달라지고, 그리고 새로운 동료와 함께 어떤 일이 버러지는지\n",
      "정말로 궁금하네요!! 기대됩니다!\n",
      "====================================================================================================\n",
      "작년년에포켓몬스터극장판너로정했다영화를보게되었는데피카츄가말한장면에너무깜짝놀라서정말로대단한연기였고그리고매우감동했고그리고잘봤습니다마침내드디어주년영화가월에개봉을하는데어서그날이빨리왔으면정말로좋겠어요과연이영화가궁금하네요포켓몬스터극장판모두의이야기주년이된이영화에는지우의모습이달라지고또로켓단도달라지고그리고새로운동료와함께어떤일이버러지는지정말로궁금하네요기대됩니다\n"
     ]
    }
   ],
   "source": [
    "# 첫번째 문장에 사용해보기\r\n",
    "print(df.iloc[0, 0])\r\n",
    "print('='*100)\r\n",
    "sentence = re.sub('[^가-힣 ]', '', df.iloc[0, 0])\r\n",
    "print(sentence)"
   ]
  },
  {
   "cell_type": "code",
   "execution_count": 6,
   "metadata": {},
   "outputs": [
    {
     "name": "stdout",
     "output_type": "stream",
     "text": [
      "[('작년', 'Noun'), ('년', 'Noun'), ('에', 'Josa'), ('포켓몬스터', 'Noun'), ('극장판', 'Noun'), ('너', 'Noun'), ('로', 'Josa'), ('정', 'Noun'), ('했다', 'Verb'), ('영화', 'Noun'), ('를', 'Josa'), ('보게', 'Verb'), ('되었는데', 'Verb'), ('피카츄', 'Noun'), ('가', 'Josa'), ('말', 'Noun'), ('한', 'Josa'), ('장면', 'Noun'), ('에', 'Josa'), ('너무', 'Adverb'), ('깜짝', 'Noun'), ('놀라서', 'Verb'), ('정말로', 'Adverb'), ('대단한', 'Adjective'), ('연기', 'Noun'), ('였고', 'Verb'), ('그리고', 'Conjunction'), ('매우', 'Noun'), ('감동', 'Noun'), ('했고', 'Verb'), ('그리고', 'Conjunction'), ('잘', 'Verb'), ('봤습니다', 'Verb'), ('마침내', 'Noun'), ('드디어', 'Adverb'), ('주년', 'Noun'), ('영화', 'Noun'), ('가', 'Josa'), ('월', 'Noun'), ('에', 'Josa'), ('개봉', 'Noun'), ('을', 'Josa'), ('하는데어서', 'Verb'), ('그날', 'Noun'), ('이', 'Josa'), ('빨리', 'Adverb'), ('왔으면', 'Verb'), ('정말로', 'Adverb'), ('좋겠어요', 'Adjective'), ('과연', 'Noun'), ('이영화', 'Noun'), ('가', 'Josa'), ('궁금하네요', 'Adjective'), ('포켓몬스터', 'Noun'), ('극장판', 'Noun'), ('모두', 'Noun'), ('의', 'Josa'), ('이야기', 'Noun'), ('주년', 'Noun'), ('이', 'Josa'), ('된', 'Verb'), ('이영화', 'Noun'), ('에는', 'Josa'), ('지우', 'Noun'), ('의', 'Josa'), ('모습', 'Noun'), ('이', 'Josa'), ('달라지고', 'Verb'), ('또', 'Noun'), ('로켓단', 'Noun'), ('도', 'Josa'), ('달라', 'Noun'), ('지고', 'Noun'), ('그리고', 'Conjunction'), ('새로운', 'Adjective'), ('동료', 'Noun'), ('와', 'Josa'), ('함께', 'Adverb'), ('어떤', 'Adjective'), ('일이', 'Noun'), ('버러지', 'Noun'), ('는', 'Josa'), ('지정', 'Noun'), ('말로', 'Noun'), ('궁금하네', 'Adjective'), ('요기', 'Noun'), ('대', 'Suffix'), ('됩니다', 'Verb')]\n"
     ]
    }
   ],
   "source": [
    "okt = Okt()\r\n",
    "token = okt.pos(sentence)\r\n",
    "print(token)"
   ]
  },
  {
   "cell_type": "code",
   "execution_count": 7,
   "metadata": {},
   "outputs": [
    {
     "name": "stdout",
     "output_type": "stream",
     "text": [
      "     word   class\n",
      "0      작년    Noun\n",
      "1       년    Noun\n",
      "2       에    Josa\n",
      "3   포켓몬스터    Noun\n",
      "4     극장판    Noun\n",
      "5       너    Noun\n",
      "6       로    Josa\n",
      "7       정    Noun\n",
      "8      했다    Verb\n",
      "9      영화    Noun\n",
      "10      를    Josa\n",
      "11     보게    Verb\n",
      "12   되었는데    Verb\n",
      "13    피카츄    Noun\n",
      "14      가    Josa\n",
      "15      말    Noun\n",
      "16      한    Josa\n",
      "17     장면    Noun\n",
      "18      에    Josa\n",
      "19     너무  Adverb\n"
     ]
    }
   ],
   "source": [
    "# 데이터 프레임\r\n",
    "df_token = pd.DataFrame(token, columns=['word', 'class']) \r\n",
    "print(df_token.head(20)) "
   ]
  },
  {
   "cell_type": "code",
   "execution_count": 8,
   "metadata": {},
   "outputs": [
    {
     "name": "stdout",
     "output_type": "stream",
     "text": [
      "     word      class\n",
      "0      작년       Noun\n",
      "1       년       Noun\n",
      "3   포켓몬스터       Noun\n",
      "4     극장판       Noun\n",
      "5       너       Noun\n",
      "7       정       Noun\n",
      "8      했다       Verb\n",
      "9      영화       Noun\n",
      "11     보게       Verb\n",
      "12   되었는데       Verb\n",
      "13    피카츄       Noun\n",
      "15      말       Noun\n",
      "17     장면       Noun\n",
      "20     깜짝       Noun\n",
      "21    놀라서       Verb\n",
      "23    대단한  Adjective\n",
      "24     연기       Noun\n",
      "25     였고       Verb\n",
      "27     매우       Noun\n",
      "28     감동       Noun\n"
     ]
    }
   ],
   "source": [
    "# 조건 인덱싱\r\n",
    "df_cleaned_token = df_token[(df_token['class'] == 'Noun') | \r\n",
    "                            (df_token['class'] == 'Verb') |\r\n",
    "                            (df_token['class'] == 'Adjective')]\r\n",
    "print(df_cleaned_token.head(20))"
   ]
  },
  {
   "cell_type": "code",
   "execution_count": 9,
   "metadata": {},
   "outputs": [
    {
     "name": "stdout",
     "output_type": "stream",
     "text": [
      "[1, 2, 3, 4, 5, 6]\n"
     ]
    }
   ],
   "source": [
    "a = [1, 2, 3]\r\n",
    "b = [4, 5, 6]\r\n",
    "c = a + b\r\n",
    "print(c)"
   ]
  },
  {
   "cell_type": "code",
   "execution_count": 10,
   "metadata": {},
   "outputs": [
    {
     "name": "stdout",
     "output_type": "stream",
     "text": [
      "    stopword\n",
      "0          아\n",
      "1          휴\n",
      "2        아이구\n",
      "3        아이쿠\n",
      "4        아이고\n",
      "..       ...\n",
      "783      없다는\n",
      "784      않을까\n",
      "785       있지\n",
      "786      있으며\n",
      "787      그대로\n",
      "\n",
      "[787 rows x 1 columns]\n"
     ]
    }
   ],
   "source": [
    "stopwords = pd.read_csv('../datasets/stopwords.csv', index_col=0)\r\n",
    "print(stopwords)"
   ]
  },
  {
   "cell_type": "code",
   "execution_count": 11,
   "metadata": {},
   "outputs": [],
   "source": [
    "# 또 다른 불용어 추가\r\n",
    "movie_stopwords = ['영화', '배우', '감독']\r\n",
    "stopwords_list = list(stopwords.stopword) + movie_stopwords"
   ]
  },
  {
   "cell_type": "code",
   "execution_count": 12,
   "metadata": {},
   "outputs": [
    {
     "name": "stdout",
     "output_type": "stream",
     "text": [
      "['작년', '포켓몬스터', '극장판', '보게', '되었는데', '피카츄', '장면', '깜짝', '놀라서', '대단한', '연기', '였고', '감동', '했고', '봤습니다', '마침내', '주년', '개봉', '하는데어서', '그날', '왔으면', '좋겠어요', '이영화', '궁금하네요', '포켓몬스터', '극장판', '주년', '이영화', '지우', '모습', '달라지고', '로켓단', '달라', '지고', '새로운', '동료', '버러지', '지정', '말로', '궁금하네', '요기']\n"
     ]
    }
   ],
   "source": [
    "# 불용어 처리\r\n",
    "words = []\r\n",
    "for word in df_cleaned_token['word']:\r\n",
    "    if len(word) > 1:\r\n",
    "        if word not in stopwords_list:\r\n",
    "            words.append(word)\r\n",
    "print(words)"
   ]
  },
  {
   "cell_type": "code",
   "execution_count": 13,
   "metadata": {},
   "outputs": [
    {
     "name": "stdout",
     "output_type": "stream",
     "text": [
      "작년 포켓몬스터 극장판 보게 되었는데 피카츄 장면 깜짝 놀라서 대단한 연기 였고 감동 했고 봤습니다 마침내 주년 개봉 하는데어서 그날 왔으면 좋겠어요 이영화 궁금하네요 포켓몬스터 극장판 주년 이영화 지우 모습 달라지고 로켓단 달라 지고 새로운 동료 버러지 지정 말로 궁금하네 요기\n"
     ]
    }
   ],
   "source": [
    "# 한 문장으로\r\n",
    "cleaned_sentence = ' '.join(words)\r\n",
    "print(cleaned_sentence)"
   ]
  },
  {
   "cell_type": "code",
   "execution_count": 14,
   "metadata": {},
   "outputs": [
    {
     "name": "stderr",
     "output_type": "stream",
     "text": [
      "100%|██████████| 7975/7975 [06:11<00:00, 21.49it/s]"
     ]
    },
    {
     "name": "stdout",
     "output_type": "stream",
     "text": [
      "                                             reviews  \\\n",
      "0  작년 2017년에 포켓몬스터 극장판 \\n너로 정했다!영화를 보게 되었는데, 피카츄가...   \n",
      "1  이번 극장판도 엄청났습니다!\\n\\n보는내내 재미있었는데 직접 영화관에 가시는분들을위...   \n",
      "2  티저가 공개되고나서부터 기다렸는데 드디어 개봉 했습니다\\n\\n바람 축제가 열리는 후...   \n",
      "3  극장판 포켓몬스터 모두의 이야기\\n감독\\n야지마 테츠오\\n출연\\n마츠모토 리카, 오...   \n",
      "4  극장판 포켓몬스터 모두의 이야기\\n감독\\n야지마 테츠오\\n출연\\n마츠모토 리카, 오...   \n",
      "\n",
      "                                              titles  years  \\\n",
      "0  극장판 포켓몬스터 모두의 이야기 (Pokemon the Movie: The Powe...   2018   \n",
      "1  극장판 포켓몬스터 모두의 이야기 (Pokemon the Movie: The Powe...   2018   \n",
      "2  극장판 포켓몬스터 모두의 이야기 (Pokemon the Movie: The Powe...   2018   \n",
      "3  극장판 포켓몬스터 모두의 이야기 (Pokemon the Movie: The Powe...   2018   \n",
      "4  극장판 포켓몬스터 모두의 이야기 (Pokemon the Movie: The Powe...   2018   \n",
      "\n",
      "                                   cleaned_sentences  \n",
      "0  작년 포켓몬스터 극장판 되어다 피카츄 장면 깜짝 대단하다 연기 감동 자다 마침내 주...  \n",
      "1  극장판 엄청나다 재미있다 직접 영화관 가시다 관전 포인트 가지 알다 드리다 관동 성...  \n",
      "2  티저 공개 나서다 기다리다 개봉 바람 축제 열리다 시티 여러 트레이너 모이 슬프다 ...  \n",
      "3  극장판 포켓몬스터 지다 테츠 출연 마츠모토 리카 오타 이쿠 개봉 일본 평점 리뷰 기...  \n",
      "4  극장판 포켓몬스터 지다 테츠 출연 마츠모토 리카 오타 이쿠 개봉 일본 평점 리뷰 관...  \n"
     ]
    },
    {
     "name": "stderr",
     "output_type": "stream",
     "text": [
      "\n"
     ]
    }
   ],
   "source": [
    "#count = 0\r\n",
    "cleaned_sentences=[]\r\n",
    "for sentence in tqdm(df.reviews):\r\n",
    "    sentence = re.sub('[^가-힣 ]', '', sentence)\r\n",
    "    token = okt.pos(sentence, stem=True)     \r\n",
    "    df_token = pd.DataFrame(token, columns=['word', 'class']) \r\n",
    "    df_cleaned_token = df_token[(df_token['class'] == 'Noun') | (df_token['class'] == 'Verb') | (df_token['class'] == 'Adjective')]\r\n",
    "    words = [word for word in df_cleaned_token['word'] if word not in stopwords_list and len(word) > 1]\r\n",
    "    cleaned_sentence = ' '.join(words)\r\n",
    "    cleaned_sentences.append(cleaned_sentence)\r\n",
    "\r\n",
    "df['cleaned_sentences'] = cleaned_sentences\r\n",
    "print(df.head())\r\n",
    "\r\n",
    "    # # 진행 상황 확인\r\n",
    "    # count +- 1\r\n",
    "    # if count % 10 == 0:\r\n",
    "    #     print('.', end='')\r\n",
    "    # if count % 100 == 0:\r\n",
    "    #     print('')\r\n",
    "    \r\n",
    "    # words = []\r\n",
    "    # for word in df_cleaned_token['word']:\r\n",
    "    #     if len(word) > 1:\r\n",
    "    #         if word not in stopwords_list:\r\n",
    "    #             words.append(word)\r\n"
   ]
  },
  {
   "cell_type": "code",
   "execution_count": 15,
   "metadata": {},
   "outputs": [
    {
     "ename": "TypeError",
     "evalue": "expected string or bytes-like object",
     "output_type": "error",
     "traceback": [
      "\u001b[1;31m---------------------------------------------------------------------------\u001b[0m",
      "\u001b[1;31mTypeError\u001b[0m                                 Traceback (most recent call last)",
      "\u001b[1;32m<ipython-input-15-ef5a5e3603c3>\u001b[0m in \u001b[0;36m<module>\u001b[1;34m\u001b[0m\n\u001b[0;32m     14\u001b[0m     \u001b[1;32mreturn\u001b[0m\u001b[1;33m(\u001b[0m\u001b[0mcleaned_sentences\u001b[0m\u001b[1;33m)\u001b[0m\u001b[1;33m\u001b[0m\u001b[1;33m\u001b[0m\u001b[0m\n\u001b[0;32m     15\u001b[0m \u001b[1;33m\u001b[0m\u001b[0m\n\u001b[1;32m---> 16\u001b[1;33m \u001b[0mdf\u001b[0m\u001b[1;33m[\u001b[0m\u001b[1;34m'cleaned_reviews'\u001b[0m\u001b[1;33m]\u001b[0m \u001b[1;33m=\u001b[0m \u001b[0mreview_to_words\u001b[0m\u001b[1;33m(\u001b[0m\u001b[0mdf\u001b[0m\u001b[1;33m)\u001b[0m\u001b[1;33m\u001b[0m\u001b[1;33m\u001b[0m\u001b[0m\n\u001b[0m\u001b[0;32m     17\u001b[0m \u001b[0mdf\u001b[0m\u001b[1;33m\u001b[0m\u001b[1;33m\u001b[0m\u001b[0m\n",
      "\u001b[1;32m<ipython-input-15-ef5a5e3603c3>\u001b[0m in \u001b[0;36mreview_to_words\u001b[1;34m(raw_data)\u001b[0m\n\u001b[0;32m      1\u001b[0m \u001b[1;32mdef\u001b[0m \u001b[0mreview_to_words\u001b[0m\u001b[1;33m(\u001b[0m\u001b[0mraw_data\u001b[0m\u001b[1;33m)\u001b[0m\u001b[1;33m:\u001b[0m\u001b[1;33m\u001b[0m\u001b[1;33m\u001b[0m\u001b[0m\n\u001b[0;32m      2\u001b[0m \u001b[1;33m\u001b[0m\u001b[0m\n\u001b[1;32m----> 3\u001b[1;33m     \u001b[0mletters_only\u001b[0m \u001b[1;33m=\u001b[0m \u001b[0mre\u001b[0m\u001b[1;33m.\u001b[0m\u001b[0msub\u001b[0m\u001b[1;33m(\u001b[0m\u001b[1;34m'[^가-힣 ]'\u001b[0m\u001b[1;33m,\u001b[0m \u001b[1;34m''\u001b[0m\u001b[1;33m,\u001b[0m \u001b[0mraw_data\u001b[0m\u001b[1;33m)\u001b[0m\u001b[1;33m\u001b[0m\u001b[1;33m\u001b[0m\u001b[0m\n\u001b[0m\u001b[0;32m      4\u001b[0m     \u001b[0mtoken\u001b[0m \u001b[1;33m=\u001b[0m \u001b[0mokt\u001b[0m\u001b[1;33m.\u001b[0m\u001b[0mpos\u001b[0m\u001b[1;33m(\u001b[0m\u001b[0mletters_only\u001b[0m\u001b[1;33m,\u001b[0m \u001b[0mstem\u001b[0m\u001b[1;33m=\u001b[0m\u001b[1;32mTrue\u001b[0m\u001b[1;33m)\u001b[0m\u001b[1;33m\u001b[0m\u001b[1;33m\u001b[0m\u001b[0m\n\u001b[0;32m      5\u001b[0m     \u001b[0mtoken\u001b[0m \u001b[1;33m=\u001b[0m \u001b[0mpd\u001b[0m\u001b[1;33m.\u001b[0m\u001b[0mDataFrame\u001b[0m\u001b[1;33m(\u001b[0m\u001b[0mtoken\u001b[0m\u001b[1;33m,\u001b[0m \u001b[0mcolumns\u001b[0m\u001b[1;33m=\u001b[0m\u001b[1;33m[\u001b[0m\u001b[1;34m'word'\u001b[0m\u001b[1;33m,\u001b[0m \u001b[1;34m'class'\u001b[0m\u001b[1;33m]\u001b[0m\u001b[1;33m)\u001b[0m\u001b[1;33m\u001b[0m\u001b[1;33m\u001b[0m\u001b[0m\n",
      "\u001b[1;32m~\\anaconda3\\envs\\AI_exam\\lib\\re.py\u001b[0m in \u001b[0;36msub\u001b[1;34m(pattern, repl, string, count, flags)\u001b[0m\n\u001b[0;32m    192\u001b[0m     \u001b[0ma\u001b[0m \u001b[0mcallable\u001b[0m\u001b[1;33m,\u001b[0m \u001b[0mit\u001b[0m\u001b[0;31m'\u001b[0m\u001b[0ms\u001b[0m \u001b[0mpassed\u001b[0m \u001b[0mthe\u001b[0m \u001b[0mMatch\u001b[0m \u001b[0mobject\u001b[0m \u001b[1;32mand\u001b[0m \u001b[0mmust\u001b[0m \u001b[1;32mreturn\u001b[0m\u001b[1;33m\u001b[0m\u001b[1;33m\u001b[0m\u001b[0m\n\u001b[0;32m    193\u001b[0m     a replacement string to be used.\"\"\"\n\u001b[1;32m--> 194\u001b[1;33m     \u001b[1;32mreturn\u001b[0m \u001b[0m_compile\u001b[0m\u001b[1;33m(\u001b[0m\u001b[0mpattern\u001b[0m\u001b[1;33m,\u001b[0m \u001b[0mflags\u001b[0m\u001b[1;33m)\u001b[0m\u001b[1;33m.\u001b[0m\u001b[0msub\u001b[0m\u001b[1;33m(\u001b[0m\u001b[0mrepl\u001b[0m\u001b[1;33m,\u001b[0m \u001b[0mstring\u001b[0m\u001b[1;33m,\u001b[0m \u001b[0mcount\u001b[0m\u001b[1;33m)\u001b[0m\u001b[1;33m\u001b[0m\u001b[1;33m\u001b[0m\u001b[0m\n\u001b[0m\u001b[0;32m    195\u001b[0m \u001b[1;33m\u001b[0m\u001b[0m\n\u001b[0;32m    196\u001b[0m \u001b[1;32mdef\u001b[0m \u001b[0msubn\u001b[0m\u001b[1;33m(\u001b[0m\u001b[0mpattern\u001b[0m\u001b[1;33m,\u001b[0m \u001b[0mrepl\u001b[0m\u001b[1;33m,\u001b[0m \u001b[0mstring\u001b[0m\u001b[1;33m,\u001b[0m \u001b[0mcount\u001b[0m\u001b[1;33m=\u001b[0m\u001b[1;36m0\u001b[0m\u001b[1;33m,\u001b[0m \u001b[0mflags\u001b[0m\u001b[1;33m=\u001b[0m\u001b[1;36m0\u001b[0m\u001b[1;33m)\u001b[0m\u001b[1;33m:\u001b[0m\u001b[1;33m\u001b[0m\u001b[1;33m\u001b[0m\u001b[0m\n",
      "\u001b[1;31mTypeError\u001b[0m: expected string or bytes-like object"
     ]
    }
   ],
   "source": [
    "def review_to_words(raw_data):\r\n",
    "    \r\n",
    "    letters_only = re.sub('[^가-힣 ]', '', raw_data)\r\n",
    "    token = okt.pos(letters_only, stem=True) \r\n",
    "    token = pd.DataFrame(token, columns=['word', 'class'])\r\n",
    "    cleaned_token = token[(token['class'] == 'Noun') | \r\n",
    "                          (token['class'] == 'Verb') |\r\n",
    "                          (token['class'] == 'Adjective')]  \r\n",
    "    stops = set(stopwords_list)\r\n",
    "    meaningful_words = [w for w in df_cleaned_token['word'] if not w in stops and len(w) > 1] # 불용어 처리\r\n",
    "    cleaned_sentence = ' '.join(meaningful_words) # 한 문장으로\r\n",
    "    cleaned_sentences.append(cleaned_sentence)\r\n",
    "    \r\n",
    "    return(cleaned_sentences)\r\n",
    "   \r\n",
    "df['cleaned_reviews'] = review_to_words(df)        \r\n",
    "df"
   ]
  },
  {
   "cell_type": "code",
   "execution_count": null,
   "metadata": {},
   "outputs": [],
   "source": [
    "def _apply_df(args):\r\n",
    "    df, func, kwargs = args\r\n",
    "    return df.apply(func, **kwargs)\r\n",
    "\r\n",
    "def apply_by_multiprocessing(df, func, **kwargs):\r\n",
    "    # 키워드 항목 중 workers 파라메터를 꺼냄\r\n",
    "    workers = kwargs.pop('workers')\r\n",
    "    # 위에서 가져온 workers 수로 프로세스 풀을 정의\r\n",
    "    pool = Pool(processes=workers)\r\n",
    "    # 실행할 함수와 데이터프레임을 워커의 수 만큼 나눠 작업\r\n",
    "    result = pool.map(_apply_df, [(d, func, kwargs)\r\n",
    "            for d in np.array_split(df, workers)])\r\n",
    "    pool.close()\r\n",
    "    # 작업 결과를 합쳐서 반환\r\n",
    "    return pd.concat(list(result))\r\n",
    "\r\n",
    "cleaned_sentences = apply_by_multiprocessing(\\\r\n",
    "    train['review'], review_to_words, workers=8)  \r\n"
   ]
  }
 ],
 "metadata": {
  "interpreter": {
   "hash": "293ef13038b1144d4811de228cdfb91e615f2f48e1a0c87d3a386cf88ee0761d"
  },
  "kernelspec": {
   "display_name": "Python 3.7.10 64-bit ('AI_exam': conda)",
   "name": "python3"
  },
  "language_info": {
   "codemirror_mode": {
    "name": "ipython",
    "version": 3
   },
   "file_extension": ".py",
   "mimetype": "text/x-python",
   "name": "python",
   "nbconvert_exporter": "python",
   "pygments_lexer": "ipython3",
   "version": "3.7.10"
  },
  "orig_nbformat": 4
 },
 "nbformat": 4,
 "nbformat_minor": 2
}